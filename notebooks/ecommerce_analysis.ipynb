{
 "cells": [
  {
   "cell_type": "markdown",
   "metadata": {},
   "source": [
    "# E-commerce Sales Optimization Analysis\n",
    "\n",
    "## Project Overview\n",
    "This notebook analyzes the Sample Superstore Sales Dataset to identify:\n",
    "- Top-performing products, categories, and regions\n",
    "- Profitability vs revenue patterns\n",
    "- Time trends and seasonality\n",
    "- Business recommendations for sales optimization\n",
    "\n",
    "**Dataset Source**: [Kaggle - Sales Forecasting](https://www.kaggle.com/datasets/rohitsahoo/sales-forecasting)"
   ]
  },
  {
   "cell_type": "markdown",
   "metadata": {},
   "source": [
    "## 1. Setup and Data Loading"
   ]
  },
  {
   "cell_type": "code",
   "execution_count": null,
   "metadata": {},
   "outputs": [],
   "source": [
    "# Import required libraries\n",
    "import pandas as pd\n",
    "import numpy as np\n",
    "import matplotlib.pyplot as plt\n",
    "import seaborn as sns\n",
    "import plotly.express as px\n",
    "from datetime import datetime\n",
    "import warnings\n",
    "warnings.filterwarnings('ignore')\n",
    "\n",
    "# Set plotting style\n",
    "plt.style.use('seaborn-v0_8')\n",
    "sns.set_palette(\"husl\")\n",
    "\n",
    "print(\"Libraries imported successfully!\")"
   ]
  },
  {
   "cell_type": "code",
   "execution_count": null,
   "metadata": {},
   "outputs": [],
   "source": [
    "# Load the dataset\n",
    "try:\n",
    "    df = pd.read_csv('../data/superstore_sales.csv', encoding='latin-1')\n",
    "    print(f\"Dataset loaded successfully! Shape: {df.shape}\")\n",
    "except FileNotFoundError:\n",
    "    print(\"Dataset not found. Please download from Kaggle and place in data/ folder.\")\n",
    "    print(\"See data_download_instructions.md for details.\")"
   ]
  },
  {
   "cell_type": "markdown",
   "metadata": {},
   "source": [
    "## 2. Data Exploration and Cleaning"
   ]
  },
  {
   "cell_type": "code",
   "execution_count": null,
   "metadata": {},
   "outputs": [],
   "source": [
    "# Explore dataset structure\n",
    "print(\"Dataset Info:\")\n",
    "print(df.info())\n",
    "print(\"\\nFirst 5 rows:\")\n",
    "display(df.head())\n",
    "print(\"\\nMissing values:\")\n",
    "print(df.isnull().sum())"
   ]
  },
  {
   "cell_type": "code",
   "execution_count": null,
   "metadata": {},
   "outputs": [],
   "source": [
    "# Data cleaning and preparation\n",
    "df_clean = df.copy()\n",
    "\n",
    "# Convert date columns\n",
    "for col in df_clean.columns:\n",
    "    if 'date' in col.lower():\n",
    "        try:\n",
    "            df_clean[col] = pd.to_datetime(df_clean[col])\n",
    "            print(f\"Converted {col} to datetime\")\n",
    "        except:\n",
    "            print(f\"Could not convert {col}\")\n",
    "\n",
    "# Find key columns\n",
    "sales_col = next((col for col in df_clean.columns if 'sales' in col.lower()), None)\n",
    "profit_col = next((col for col in df_clean.columns if 'profit' in col.lower()), None)\n",
    "\n",
    "print(f\"Sales column: {sales_col}\")\n",
    "print(f\"Profit column: {profit_col}\")\n",
    "\n",
    "# Create profit margin\n",
    "if sales_col and profit_col:\n",
    "    df_clean['Profit_Margin'] = (df_clean[profit_col] / df_clean[sales_col]) * 100\n",
    "    print(\"Created Profit_Margin column\")"
   ]
  }
 ],
 "metadata": {
  "kernelspec": {
   "display_name": "Python 3",
   "language": "python",
   "name": "python3"
  },
  "language_info": {
   "codemirror_mode": {
    "name": "ipython",
    "version": 3
   },
   "file_extension": ".py",
   "mimetype": "text/x-python",
   "name": "python",
   "nbconvert_exporter": "python",
   "pygments_lexer": "ipython3",
   "version": "3.8.5"
  }
 },
 "nbformat": 4,
 "nbformat_minor": 4
}
